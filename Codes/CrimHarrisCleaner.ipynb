{
 "cells": [
  {
   "cell_type": "code",
   "execution_count": 2,
   "id": "71b9b4bb-8521-4a48-8590-1b24158f5a6e",
   "metadata": {},
   "outputs": [
    {
     "name": "stderr",
     "output_type": "stream",
     "text": [
      "C:\\Users\\ferna\\AppData\\Local\\Temp\\ipykernel_2160\\1613871618.py:2: DtypeWarning: Columns (4,8,25,26) have mixed types. Specify dtype option on import or set low_memory=False.\n",
      "  df = pd.read_csv('Harris_CrimCITFiled_2022_RAW.csv')\n"
     ]
    },
    {
     "name": "stdout",
     "output_type": "stream",
     "text": [
      "<class 'pandas.core.frame.DataFrame'>\n",
      "RangeIndex: 321318 entries, 0 to 321317\n",
      "Data columns (total 56 columns):\n",
      " #   Column                 Non-Null Count   Dtype  \n",
      "---  ------                 --------------   -----  \n",
      " 0   Case Number            321318 non-null  int64  \n",
      " 1   JP Court ID            321318 non-null  object \n",
      " 2   Citation Number        321313 non-null  object \n",
      " 3   Filed Date             321318 non-null  object \n",
      " 4   Offense Code           321318 non-null  object \n",
      " 5   Offense Description    321318 non-null  object \n",
      " 6   Statutory Cite 1       319733 non-null  object \n",
      " 7   Statutory Cite 2       38576 non-null   object \n",
      " 8   Arresting Agency Code  321313 non-null  object \n",
      " 9   Arresting Agency Name  321313 non-null  object \n",
      " 10  Officer Code           319209 non-null  object \n",
      " 11  Officer Name           319209 non-null  object \n",
      " 12  Plea Code              174704 non-null  object \n",
      " 13  Plea Date              174704 non-null  object \n",
      " 14  Disposition Code       234293 non-null  object \n",
      " 15  Disposition Date       234293 non-null  object \n",
      " 16  Judgment Date          234293 non-null  object \n",
      " 17  Def First Name         321297 non-null  object \n",
      " 18  Def Middle Name        229748 non-null  object \n",
      " 19  Def Last Name          321318 non-null  object \n",
      " 20  Def Suffix             14944 non-null   object \n",
      " 21  Def Home Add Line 1    314359 non-null  object \n",
      " 22  Def Home Add Line 2    20300 non-null   object \n",
      " 23  Def Home Add City      321085 non-null  object \n",
      " 24  Def Home Add State     321085 non-null  object \n",
      " 25  Def Home Add ZIP 1     321084 non-null  object \n",
      " 26  Def Home Add ZIP 2     26077 non-null   object \n",
      " 27  Def Work Add Line 1    0 non-null       float64\n",
      " 28  Def Work Add Line 2    0 non-null       float64\n",
      " 29  Def Work Add City      0 non-null       float64\n",
      " 30  Def Work Add State     0 non-null       float64\n",
      " 31  Def Work Add ZIP 1     0 non-null       float64\n",
      " 32  Def Work Add ZIP 2     0 non-null       float64\n",
      " 33  Def Date of Birth      321292 non-null  object \n",
      " 34  Def SPN Number         39424 non-null   float64\n",
      " 35  Def SPN Pointer        0 non-null       float64\n",
      " 36  Def Height Feet        306081 non-null  float64\n",
      " 37  Def Height Inches      278457 non-null  float64\n",
      " 38  Def Weight             188234 non-null  float64\n",
      " 39  Def Gender             320417 non-null  object \n",
      " 40  Def Race               319695 non-null  object \n",
      " 41  Total Fines Assessed   321309 non-null  float64\n",
      " 42  Total Fines Due        321309 non-null  float64\n",
      " 43  Total Costs Assessed   321309 non-null  float64\n",
      " 44  Total Costs Due        321309 non-null  float64\n",
      " 45  Balance Due            321309 non-null  float64\n",
      " 46  Total Paid             321309 non-null  float64\n",
      " 47  Last Bond Set Date     79294 non-null   object \n",
      " 48  Last Bond Posted Date  3821 non-null    object \n",
      " 49  Last Bond Amount       79380 non-null   float64\n",
      " 50  Next Hearing Desc      227256 non-null  object \n",
      " 51  Next Hearing Date      227256 non-null  object \n",
      " 52  Next Hearing Time      227256 non-null  object \n",
      " 53  Last Open Warr Type    79623 non-null   object \n",
      " 54  Last Open Warr Date    79612 non-null   object \n",
      " 55  court_number           321318 non-null  int64  \n",
      "dtypes: float64(18), int64(2), object(36)\n",
      "memory usage: 137.3+ MB\n"
     ]
    }
   ],
   "source": [
    "import pandas as pd\n",
    "df = pd.read_csv('Harris_CrimCITFiled_2022_RAW.csv')\n",
    "df.columns = df.columns.str.strip()\n",
    "df.info()"
   ]
  },
  {
   "cell_type": "code",
   "execution_count": 4,
   "id": "43203e8f-44d4-4d96-a7ec-08d2baa25ec6",
   "metadata": {},
   "outputs": [
    {
     "name": "stdout",
     "output_type": "stream",
     "text": [
      "<class 'pandas.core.frame.DataFrame'>\n",
      "RangeIndex: 321318 entries, 0 to 321317\n",
      "Data columns (total 31 columns):\n",
      " #   Column                 Non-Null Count   Dtype  \n",
      "---  ------                 --------------   -----  \n",
      " 0   Case Number            321318 non-null  int64  \n",
      " 1   JP Court ID            321318 non-null  object \n",
      " 2   Filed Date             321318 non-null  object \n",
      " 3   Offense Code           321318 non-null  object \n",
      " 4   Offense Description    321318 non-null  object \n",
      " 5   Statutory Cite 1       319733 non-null  object \n",
      " 6   Statutory Cite 2       38576 non-null   object \n",
      " 7   Arresting Agency Name  321313 non-null  object \n",
      " 8   Officer Code           319209 non-null  object \n",
      " 9   Plea Code              174704 non-null  object \n",
      " 10  Plea Date              174704 non-null  object \n",
      " 11  Disposition Code       234293 non-null  object \n",
      " 12  Disposition Date       234293 non-null  object \n",
      " 13  Judgment Date          234293 non-null  object \n",
      " 14  Def Suffix             14944 non-null   object \n",
      " 15  Def Home Add ZIP 2     26077 non-null   object \n",
      " 16  Def Gender             320417 non-null  object \n",
      " 17  Def Race               319695 non-null  object \n",
      " 18  Total Fines Assessed   321309 non-null  float64\n",
      " 19  Total Fines Due        321309 non-null  float64\n",
      " 20  Total Costs Assessed   321309 non-null  float64\n",
      " 21  Total Costs Due        321309 non-null  float64\n",
      " 22  Balance Due            321309 non-null  float64\n",
      " 23  Total Paid             321309 non-null  float64\n",
      " 24  Last Bond Set Date     79294 non-null   object \n",
      " 25  Last Bond Posted Date  3821 non-null    object \n",
      " 26  Last Bond Amount       79380 non-null   float64\n",
      " 27  Next Hearing Desc      227256 non-null  object \n",
      " 28  Next Hearing Date      227256 non-null  object \n",
      " 29  Last Open Warr Type    79623 non-null   object \n",
      " 30  Last Open Warr Date    79612 non-null   object \n",
      "dtypes: float64(7), int64(1), object(23)\n",
      "memory usage: 76.0+ MB\n"
     ]
    }
   ],
   "source": [
    "# List of column indices to remove\n",
    "columns_to_remove = [2, 8, 11, 17, 18, 19, 21, 22, 23, 24, 25, 27, 28, 29, 30, 31, 32, 33, 34, 35, 36, 37, 38, 52, 55]\n",
    "# Drop the specified columns by index\n",
    "df = df.drop(df.columns[columns_to_remove], axis=1)\n",
    "\n",
    "# Display the first few rows of the DataFrame to confirm changes\n",
    "df.info()"
   ]
  },
  {
   "cell_type": "code",
   "execution_count": 6,
   "id": "5eba80d9-8607-42b8-9c15-89aefbd9e751",
   "metadata": {},
   "outputs": [
    {
     "name": "stdout",
     "output_type": "stream",
     "text": [
      "<class 'pandas.core.frame.DataFrame'>\n",
      "RangeIndex: 321318 entries, 0 to 321317\n",
      "Data columns (total 34 columns):\n",
      " #   Column                 Non-Null Count   Dtype  \n",
      "---  ------                 --------------   -----  \n",
      " 0   Case Number            321318 non-null  int64  \n",
      " 1   JP Court ID            321318 non-null  object \n",
      " 2   Filed Date             321318 non-null  object \n",
      " 3   Offense Code           321318 non-null  object \n",
      " 4   Offense Description    321318 non-null  object \n",
      " 5   Statutory Cite 1       319733 non-null  object \n",
      " 6   Statutory Cite 2       38576 non-null   object \n",
      " 7   Arresting Agency Name  321313 non-null  object \n",
      " 8   Officer Code           319209 non-null  object \n",
      " 9   Plea Code              174704 non-null  object \n",
      " 10  Plea Date              174704 non-null  object \n",
      " 11  Disposition Code       234293 non-null  object \n",
      " 12  Disposition Date       234293 non-null  object \n",
      " 13  Judgment Date          234293 non-null  object \n",
      " 14  Def Suffix             14944 non-null   object \n",
      " 15  Def Home Add ZIP 2     26077 non-null   object \n",
      " 16  Def Gender             320417 non-null  object \n",
      " 17  Def Race               319695 non-null  object \n",
      " 18  Total Fines Assessed   321309 non-null  float64\n",
      " 19  Total Fines Due        321309 non-null  float64\n",
      " 20  Total Costs Assessed   321309 non-null  float64\n",
      " 21  Total Costs Due        321309 non-null  float64\n",
      " 22  Balance Due            321309 non-null  float64\n",
      " 23  Total Paid             321309 non-null  float64\n",
      " 24  Last Bond Set Date     79294 non-null   object \n",
      " 25  Last Bond Posted Date  3821 non-null    object \n",
      " 26  Last Bond Amount       79380 non-null   float64\n",
      " 27  Next Hearing Desc      227256 non-null  object \n",
      " 28  Next Hearing Date      227256 non-null  object \n",
      " 29  Last Open Warr Type    79623 non-null   object \n",
      " 30  Last Open Warr Date    79612 non-null   object \n",
      " 31  Warrant Issued         321318 non-null  int64  \n",
      " 32  Payment Issued         321318 non-null  int64  \n",
      " 33  Cost Assessed          321318 non-null  int64  \n",
      "dtypes: float64(7), int64(4), object(23)\n",
      "memory usage: 83.3+ MB\n"
     ]
    }
   ],
   "source": [
    "# Creating 'Warrant Issued' column (1 if 'Last Open Warr Type' is not None, 0 otherwise)\n",
    "df['Warrant Issued'] = df['Last Open Warr Type'].apply(lambda x: 1 if pd.notna(x) else 0)\n",
    "\n",
    "# Creating 'Payment Issued' column (1 if 'Total Paid' is not 0, 0 otherwise)\n",
    "df['Payment Issued'] = df['Total Paid'].apply(lambda x: 1 if x != 0 else 0)\n",
    "\n",
    "# Creating 'Cost Assessed' column (1 if 'Total Costs Assessed' is not 0, 0 otherwise)\n",
    "df['Cost Assessed'] = df['Total Costs Assessed'].apply(lambda x: 1 if x != 0 else 0)\n",
    "\n",
    "# Display the updated DataFrame\n",
    "df.info()"
   ]
  },
  {
   "cell_type": "code",
   "execution_count": 8,
   "id": "dca8d641-8c21-4d05-abe2-e56d8ab517bc",
   "metadata": {},
   "outputs": [],
   "source": [
    "df.to_csv('Harris_CrimCITFiled_2022_CLEAN.csv', index=False)"
   ]
  },
  {
   "cell_type": "code",
   "execution_count": null,
   "id": "806d12b2-ea7b-4da1-80a5-645cdd62b4a5",
   "metadata": {},
   "outputs": [],
   "source": []
  },
  {
   "cell_type": "code",
   "execution_count": null,
   "id": "fa879293-c423-4f6b-84c0-bdac96b7aefc",
   "metadata": {},
   "outputs": [],
   "source": []
  }
 ],
 "metadata": {
  "kernelspec": {
   "display_name": "Python 3 (ipykernel)",
   "language": "python",
   "name": "python3"
  },
  "language_info": {
   "codemirror_mode": {
    "name": "ipython",
    "version": 3
   },
   "file_extension": ".py",
   "mimetype": "text/x-python",
   "name": "python",
   "nbconvert_exporter": "python",
   "pygments_lexer": "ipython3",
   "version": "3.12.4"
  }
 },
 "nbformat": 4,
 "nbformat_minor": 5
}
